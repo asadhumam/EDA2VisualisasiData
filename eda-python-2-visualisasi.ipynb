{
 "cells": [
  {
   "cell_type": "code",
   "execution_count": 1,
   "id": "0ff84dc8",
   "metadata": {
    "_cell_guid": "b1076dfc-b9ad-4769-8c92-a6c4dae69d19",
    "_uuid": "8f2839f25d086af736a60e9eeb907d3b93b6e0e5",
    "execution": {
     "iopub.execute_input": "2022-02-05T08:28:21.029429Z",
     "iopub.status.busy": "2022-02-05T08:28:21.028422Z",
     "iopub.status.idle": "2022-02-05T08:28:22.297911Z",
     "shell.execute_reply": "2022-02-05T08:28:22.298892Z",
     "shell.execute_reply.started": "2022-02-05T06:14:37.512043Z"
    },
    "papermill": {
     "duration": 1.314288,
     "end_time": "2022-02-05T08:28:22.299268",
     "exception": false,
     "start_time": "2022-02-05T08:28:20.984980",
     "status": "completed"
    },
    "tags": []
   },
   "outputs": [
    {
     "name": "stdout",
     "output_type": "stream",
     "text": [
      "/kaggle/input/ml-dasar/melb_data.csv\n"
     ]
    }
   ],
   "source": [
    "# This Python 3 environment comes with many helpful analytics libraries installed\n",
    "# It is defined by the kaggle/python Docker image: https://github.com/kaggle/docker-python\n",
    "# For example, here's several helpful packages to load\n",
    "\n",
    "import numpy as np # linear algebra\n",
    "import pandas as pd # data processing, CSV file I/O (e.g. pd.read_csv)\n",
    "import matplotlib.pyplot as plt\n",
    "import seaborn as sns\n",
    "\n",
    "# Input data files are available in the read-only \"../input/\" directory\n",
    "# For example, running this (by clicking run or pressing Shift+Enter) will list all files under the input directory\n",
    "\n",
    "import os\n",
    "for dirname, _, filenames in os.walk('/kaggle/input'):\n",
    "    for filename in filenames:\n",
    "        print(os.path.join(dirname, filename))\n",
    "\n",
    "# You can write up to 20GB to the current directory (/kaggle/working/) that gets preserved as output when you create a version using \"Save & Run All\" \n",
    "# You can also write temporary files to /kaggle/temp/, but they won't be saved outside of the current session"
   ]
  },
  {
   "cell_type": "code",
   "execution_count": 2,
   "id": "8a654d32",
   "metadata": {
    "execution": {
     "iopub.execute_input": "2022-02-05T08:28:22.361391Z",
     "iopub.status.busy": "2022-02-05T08:28:22.360539Z",
     "iopub.status.idle": "2022-02-05T08:28:22.499907Z",
     "shell.execute_reply": "2022-02-05T08:28:22.500426Z",
     "shell.execute_reply.started": "2022-02-05T06:14:37.524301Z"
    },
    "papermill": {
     "duration": 0.172913,
     "end_time": "2022-02-05T08:28:22.500601",
     "exception": false,
     "start_time": "2022-02-05T08:28:22.327688",
     "status": "completed"
    },
    "tags": []
   },
   "outputs": [
    {
     "data": {
      "text/html": [
       "<div>\n",
       "<style scoped>\n",
       "    .dataframe tbody tr th:only-of-type {\n",
       "        vertical-align: middle;\n",
       "    }\n",
       "\n",
       "    .dataframe tbody tr th {\n",
       "        vertical-align: top;\n",
       "    }\n",
       "\n",
       "    .dataframe thead th {\n",
       "        text-align: right;\n",
       "    }\n",
       "</style>\n",
       "<table border=\"1\" class=\"dataframe\">\n",
       "  <thead>\n",
       "    <tr style=\"text-align: right;\">\n",
       "      <th></th>\n",
       "      <th>Suburb</th>\n",
       "      <th>Address</th>\n",
       "      <th>Rooms</th>\n",
       "      <th>Type</th>\n",
       "      <th>Price</th>\n",
       "      <th>Method</th>\n",
       "      <th>SellerG</th>\n",
       "      <th>Date</th>\n",
       "      <th>Distance</th>\n",
       "      <th>Postcode</th>\n",
       "      <th>...</th>\n",
       "      <th>Bathroom</th>\n",
       "      <th>Car</th>\n",
       "      <th>Landsize</th>\n",
       "      <th>BuildingArea</th>\n",
       "      <th>YearBuilt</th>\n",
       "      <th>CouncilArea</th>\n",
       "      <th>Lattitude</th>\n",
       "      <th>Longtitude</th>\n",
       "      <th>Regionname</th>\n",
       "      <th>Propertycount</th>\n",
       "    </tr>\n",
       "  </thead>\n",
       "  <tbody>\n",
       "    <tr>\n",
       "      <th>0</th>\n",
       "      <td>Abbotsford</td>\n",
       "      <td>85 Turner St</td>\n",
       "      <td>2</td>\n",
       "      <td>h</td>\n",
       "      <td>1480000.0</td>\n",
       "      <td>S</td>\n",
       "      <td>Biggin</td>\n",
       "      <td>3/12/2016</td>\n",
       "      <td>2.5</td>\n",
       "      <td>3067.0</td>\n",
       "      <td>...</td>\n",
       "      <td>1.0</td>\n",
       "      <td>1.0</td>\n",
       "      <td>202.0</td>\n",
       "      <td>NaN</td>\n",
       "      <td>NaN</td>\n",
       "      <td>Yarra</td>\n",
       "      <td>-37.7996</td>\n",
       "      <td>144.9984</td>\n",
       "      <td>Northern Metropolitan</td>\n",
       "      <td>4019.0</td>\n",
       "    </tr>\n",
       "    <tr>\n",
       "      <th>1</th>\n",
       "      <td>Abbotsford</td>\n",
       "      <td>25 Bloomburg St</td>\n",
       "      <td>2</td>\n",
       "      <td>h</td>\n",
       "      <td>1035000.0</td>\n",
       "      <td>S</td>\n",
       "      <td>Biggin</td>\n",
       "      <td>4/02/2016</td>\n",
       "      <td>2.5</td>\n",
       "      <td>3067.0</td>\n",
       "      <td>...</td>\n",
       "      <td>1.0</td>\n",
       "      <td>0.0</td>\n",
       "      <td>156.0</td>\n",
       "      <td>79.0</td>\n",
       "      <td>1900.0</td>\n",
       "      <td>Yarra</td>\n",
       "      <td>-37.8079</td>\n",
       "      <td>144.9934</td>\n",
       "      <td>Northern Metropolitan</td>\n",
       "      <td>4019.0</td>\n",
       "    </tr>\n",
       "    <tr>\n",
       "      <th>2</th>\n",
       "      <td>Abbotsford</td>\n",
       "      <td>5 Charles St</td>\n",
       "      <td>3</td>\n",
       "      <td>h</td>\n",
       "      <td>1465000.0</td>\n",
       "      <td>SP</td>\n",
       "      <td>Biggin</td>\n",
       "      <td>4/03/2017</td>\n",
       "      <td>2.5</td>\n",
       "      <td>3067.0</td>\n",
       "      <td>...</td>\n",
       "      <td>2.0</td>\n",
       "      <td>0.0</td>\n",
       "      <td>134.0</td>\n",
       "      <td>150.0</td>\n",
       "      <td>1900.0</td>\n",
       "      <td>Yarra</td>\n",
       "      <td>-37.8093</td>\n",
       "      <td>144.9944</td>\n",
       "      <td>Northern Metropolitan</td>\n",
       "      <td>4019.0</td>\n",
       "    </tr>\n",
       "    <tr>\n",
       "      <th>3</th>\n",
       "      <td>Abbotsford</td>\n",
       "      <td>40 Federation La</td>\n",
       "      <td>3</td>\n",
       "      <td>h</td>\n",
       "      <td>850000.0</td>\n",
       "      <td>PI</td>\n",
       "      <td>Biggin</td>\n",
       "      <td>4/03/2017</td>\n",
       "      <td>2.5</td>\n",
       "      <td>3067.0</td>\n",
       "      <td>...</td>\n",
       "      <td>2.0</td>\n",
       "      <td>1.0</td>\n",
       "      <td>94.0</td>\n",
       "      <td>NaN</td>\n",
       "      <td>NaN</td>\n",
       "      <td>Yarra</td>\n",
       "      <td>-37.7969</td>\n",
       "      <td>144.9969</td>\n",
       "      <td>Northern Metropolitan</td>\n",
       "      <td>4019.0</td>\n",
       "    </tr>\n",
       "    <tr>\n",
       "      <th>4</th>\n",
       "      <td>Abbotsford</td>\n",
       "      <td>55a Park St</td>\n",
       "      <td>4</td>\n",
       "      <td>h</td>\n",
       "      <td>1600000.0</td>\n",
       "      <td>VB</td>\n",
       "      <td>Nelson</td>\n",
       "      <td>4/06/2016</td>\n",
       "      <td>2.5</td>\n",
       "      <td>3067.0</td>\n",
       "      <td>...</td>\n",
       "      <td>1.0</td>\n",
       "      <td>2.0</td>\n",
       "      <td>120.0</td>\n",
       "      <td>142.0</td>\n",
       "      <td>2014.0</td>\n",
       "      <td>Yarra</td>\n",
       "      <td>-37.8072</td>\n",
       "      <td>144.9941</td>\n",
       "      <td>Northern Metropolitan</td>\n",
       "      <td>4019.0</td>\n",
       "    </tr>\n",
       "  </tbody>\n",
       "</table>\n",
       "<p>5 rows × 21 columns</p>\n",
       "</div>"
      ],
      "text/plain": [
       "       Suburb           Address  Rooms Type      Price Method SellerG  \\\n",
       "0  Abbotsford      85 Turner St      2    h  1480000.0      S  Biggin   \n",
       "1  Abbotsford   25 Bloomburg St      2    h  1035000.0      S  Biggin   \n",
       "2  Abbotsford      5 Charles St      3    h  1465000.0     SP  Biggin   \n",
       "3  Abbotsford  40 Federation La      3    h   850000.0     PI  Biggin   \n",
       "4  Abbotsford       55a Park St      4    h  1600000.0     VB  Nelson   \n",
       "\n",
       "        Date  Distance  Postcode  ...  Bathroom  Car  Landsize  BuildingArea  \\\n",
       "0  3/12/2016       2.5    3067.0  ...       1.0  1.0     202.0           NaN   \n",
       "1  4/02/2016       2.5    3067.0  ...       1.0  0.0     156.0          79.0   \n",
       "2  4/03/2017       2.5    3067.0  ...       2.0  0.0     134.0         150.0   \n",
       "3  4/03/2017       2.5    3067.0  ...       2.0  1.0      94.0           NaN   \n",
       "4  4/06/2016       2.5    3067.0  ...       1.0  2.0     120.0         142.0   \n",
       "\n",
       "   YearBuilt  CouncilArea Lattitude  Longtitude             Regionname  \\\n",
       "0        NaN        Yarra  -37.7996    144.9984  Northern Metropolitan   \n",
       "1     1900.0        Yarra  -37.8079    144.9934  Northern Metropolitan   \n",
       "2     1900.0        Yarra  -37.8093    144.9944  Northern Metropolitan   \n",
       "3        NaN        Yarra  -37.7969    144.9969  Northern Metropolitan   \n",
       "4     2014.0        Yarra  -37.8072    144.9941  Northern Metropolitan   \n",
       "\n",
       "  Propertycount  \n",
       "0        4019.0  \n",
       "1        4019.0  \n",
       "2        4019.0  \n",
       "3        4019.0  \n",
       "4        4019.0  \n",
       "\n",
       "[5 rows x 21 columns]"
      ]
     },
     "execution_count": 2,
     "metadata": {},
     "output_type": "execute_result"
    }
   ],
   "source": [
    "file_path = '/kaggle/input/ml-dasar/melb_data.csv'\n",
    "housing_df = pd.read_csv(file_path)\n",
    "housing_df.head()"
   ]
  },
  {
   "cell_type": "code",
   "execution_count": 3,
   "id": "c1d0e58a",
   "metadata": {
    "execution": {
     "iopub.execute_input": "2022-02-05T08:28:22.563319Z",
     "iopub.status.busy": "2022-02-05T08:28:22.562255Z",
     "iopub.status.idle": "2022-02-05T08:28:22.565990Z",
     "shell.execute_reply": "2022-02-05T08:28:22.566457Z",
     "shell.execute_reply.started": "2022-02-05T06:14:37.617123Z"
    },
    "papermill": {
     "duration": 0.038128,
     "end_time": "2022-02-05T08:28:22.566634",
     "exception": false,
     "start_time": "2022-02-05T08:28:22.528506",
     "status": "completed"
    },
    "tags": []
   },
   "outputs": [
    {
     "data": {
      "text/plain": [
       "(13580, 21)"
      ]
     },
     "execution_count": 3,
     "metadata": {},
     "output_type": "execute_result"
    }
   ],
   "source": [
    "housing_df.shape"
   ]
  },
  {
   "cell_type": "code",
   "execution_count": 4,
   "id": "2b370f45",
   "metadata": {
    "execution": {
     "iopub.execute_input": "2022-02-05T08:28:22.624754Z",
     "iopub.status.busy": "2022-02-05T08:28:22.624029Z",
     "iopub.status.idle": "2022-02-05T08:28:22.630471Z",
     "shell.execute_reply": "2022-02-05T08:28:22.631088Z",
     "shell.execute_reply.started": "2022-02-05T06:14:37.623151Z"
    },
    "papermill": {
     "duration": 0.037282,
     "end_time": "2022-02-05T08:28:22.631261",
     "exception": false,
     "start_time": "2022-02-05T08:28:22.593979",
     "status": "completed"
    },
    "tags": []
   },
   "outputs": [
    {
     "data": {
      "text/plain": [
       "Index(['Suburb', 'Address', 'Rooms', 'Type', 'Price', 'Method', 'SellerG',\n",
       "       'Date', 'Distance', 'Postcode', 'Bedroom2', 'Bathroom', 'Car',\n",
       "       'Landsize', 'BuildingArea', 'YearBuilt', 'CouncilArea', 'Lattitude',\n",
       "       'Longtitude', 'Regionname', 'Propertycount'],\n",
       "      dtype='object')"
      ]
     },
     "execution_count": 4,
     "metadata": {},
     "output_type": "execute_result"
    }
   ],
   "source": [
    "housing_df.columns"
   ]
  },
  {
   "cell_type": "code",
   "execution_count": 5,
   "id": "620a951b",
   "metadata": {
    "execution": {
     "iopub.execute_input": "2022-02-05T08:28:22.707867Z",
     "iopub.status.busy": "2022-02-05T08:28:22.706793Z",
     "iopub.status.idle": "2022-02-05T08:28:22.759179Z",
     "shell.execute_reply": "2022-02-05T08:28:22.759873Z",
     "shell.execute_reply.started": "2022-02-05T06:14:37.638351Z"
    },
    "papermill": {
     "duration": 0.100999,
     "end_time": "2022-02-05T08:28:22.760099",
     "exception": false,
     "start_time": "2022-02-05T08:28:22.659100",
     "status": "completed"
    },
    "tags": []
   },
   "outputs": [
    {
     "data": {
      "text/html": [
       "<div>\n",
       "<style scoped>\n",
       "    .dataframe tbody tr th:only-of-type {\n",
       "        vertical-align: middle;\n",
       "    }\n",
       "\n",
       "    .dataframe tbody tr th {\n",
       "        vertical-align: top;\n",
       "    }\n",
       "\n",
       "    .dataframe thead th {\n",
       "        text-align: right;\n",
       "    }\n",
       "</style>\n",
       "<table border=\"1\" class=\"dataframe\">\n",
       "  <thead>\n",
       "    <tr style=\"text-align: right;\">\n",
       "      <th></th>\n",
       "      <th>Rooms</th>\n",
       "      <th>Price</th>\n",
       "      <th>Distance</th>\n",
       "      <th>Postcode</th>\n",
       "      <th>Bedroom2</th>\n",
       "      <th>Bathroom</th>\n",
       "      <th>Car</th>\n",
       "      <th>Landsize</th>\n",
       "      <th>BuildingArea</th>\n",
       "      <th>YearBuilt</th>\n",
       "      <th>Lattitude</th>\n",
       "      <th>Longtitude</th>\n",
       "      <th>Propertycount</th>\n",
       "    </tr>\n",
       "  </thead>\n",
       "  <tbody>\n",
       "    <tr>\n",
       "      <th>count</th>\n",
       "      <td>13580.000000</td>\n",
       "      <td>1.358000e+04</td>\n",
       "      <td>13580.000000</td>\n",
       "      <td>13580.000000</td>\n",
       "      <td>13580.000000</td>\n",
       "      <td>13580.000000</td>\n",
       "      <td>13518.000000</td>\n",
       "      <td>13580.000000</td>\n",
       "      <td>7130.000000</td>\n",
       "      <td>8205.000000</td>\n",
       "      <td>13580.000000</td>\n",
       "      <td>13580.000000</td>\n",
       "      <td>13580.000000</td>\n",
       "    </tr>\n",
       "    <tr>\n",
       "      <th>mean</th>\n",
       "      <td>2.937997</td>\n",
       "      <td>1.075684e+06</td>\n",
       "      <td>10.137776</td>\n",
       "      <td>3105.301915</td>\n",
       "      <td>2.914728</td>\n",
       "      <td>1.534242</td>\n",
       "      <td>1.610075</td>\n",
       "      <td>558.416127</td>\n",
       "      <td>151.967650</td>\n",
       "      <td>1964.684217</td>\n",
       "      <td>-37.809203</td>\n",
       "      <td>144.995216</td>\n",
       "      <td>7454.417378</td>\n",
       "    </tr>\n",
       "    <tr>\n",
       "      <th>std</th>\n",
       "      <td>0.955748</td>\n",
       "      <td>6.393107e+05</td>\n",
       "      <td>5.868725</td>\n",
       "      <td>90.676964</td>\n",
       "      <td>0.965921</td>\n",
       "      <td>0.691712</td>\n",
       "      <td>0.962634</td>\n",
       "      <td>3990.669241</td>\n",
       "      <td>541.014538</td>\n",
       "      <td>37.273762</td>\n",
       "      <td>0.079260</td>\n",
       "      <td>0.103916</td>\n",
       "      <td>4378.581772</td>\n",
       "    </tr>\n",
       "    <tr>\n",
       "      <th>min</th>\n",
       "      <td>1.000000</td>\n",
       "      <td>8.500000e+04</td>\n",
       "      <td>0.000000</td>\n",
       "      <td>3000.000000</td>\n",
       "      <td>0.000000</td>\n",
       "      <td>0.000000</td>\n",
       "      <td>0.000000</td>\n",
       "      <td>0.000000</td>\n",
       "      <td>0.000000</td>\n",
       "      <td>1196.000000</td>\n",
       "      <td>-38.182550</td>\n",
       "      <td>144.431810</td>\n",
       "      <td>249.000000</td>\n",
       "    </tr>\n",
       "    <tr>\n",
       "      <th>25%</th>\n",
       "      <td>2.000000</td>\n",
       "      <td>6.500000e+05</td>\n",
       "      <td>6.100000</td>\n",
       "      <td>3044.000000</td>\n",
       "      <td>2.000000</td>\n",
       "      <td>1.000000</td>\n",
       "      <td>1.000000</td>\n",
       "      <td>177.000000</td>\n",
       "      <td>93.000000</td>\n",
       "      <td>1940.000000</td>\n",
       "      <td>-37.856822</td>\n",
       "      <td>144.929600</td>\n",
       "      <td>4380.000000</td>\n",
       "    </tr>\n",
       "    <tr>\n",
       "      <th>50%</th>\n",
       "      <td>3.000000</td>\n",
       "      <td>9.030000e+05</td>\n",
       "      <td>9.200000</td>\n",
       "      <td>3084.000000</td>\n",
       "      <td>3.000000</td>\n",
       "      <td>1.000000</td>\n",
       "      <td>2.000000</td>\n",
       "      <td>440.000000</td>\n",
       "      <td>126.000000</td>\n",
       "      <td>1970.000000</td>\n",
       "      <td>-37.802355</td>\n",
       "      <td>145.000100</td>\n",
       "      <td>6555.000000</td>\n",
       "    </tr>\n",
       "    <tr>\n",
       "      <th>75%</th>\n",
       "      <td>3.000000</td>\n",
       "      <td>1.330000e+06</td>\n",
       "      <td>13.000000</td>\n",
       "      <td>3148.000000</td>\n",
       "      <td>3.000000</td>\n",
       "      <td>2.000000</td>\n",
       "      <td>2.000000</td>\n",
       "      <td>651.000000</td>\n",
       "      <td>174.000000</td>\n",
       "      <td>1999.000000</td>\n",
       "      <td>-37.756400</td>\n",
       "      <td>145.058305</td>\n",
       "      <td>10331.000000</td>\n",
       "    </tr>\n",
       "    <tr>\n",
       "      <th>max</th>\n",
       "      <td>10.000000</td>\n",
       "      <td>9.000000e+06</td>\n",
       "      <td>48.100000</td>\n",
       "      <td>3977.000000</td>\n",
       "      <td>20.000000</td>\n",
       "      <td>8.000000</td>\n",
       "      <td>10.000000</td>\n",
       "      <td>433014.000000</td>\n",
       "      <td>44515.000000</td>\n",
       "      <td>2018.000000</td>\n",
       "      <td>-37.408530</td>\n",
       "      <td>145.526350</td>\n",
       "      <td>21650.000000</td>\n",
       "    </tr>\n",
       "  </tbody>\n",
       "</table>\n",
       "</div>"
      ],
      "text/plain": [
       "              Rooms         Price      Distance      Postcode      Bedroom2  \\\n",
       "count  13580.000000  1.358000e+04  13580.000000  13580.000000  13580.000000   \n",
       "mean       2.937997  1.075684e+06     10.137776   3105.301915      2.914728   \n",
       "std        0.955748  6.393107e+05      5.868725     90.676964      0.965921   \n",
       "min        1.000000  8.500000e+04      0.000000   3000.000000      0.000000   \n",
       "25%        2.000000  6.500000e+05      6.100000   3044.000000      2.000000   \n",
       "50%        3.000000  9.030000e+05      9.200000   3084.000000      3.000000   \n",
       "75%        3.000000  1.330000e+06     13.000000   3148.000000      3.000000   \n",
       "max       10.000000  9.000000e+06     48.100000   3977.000000     20.000000   \n",
       "\n",
       "           Bathroom           Car       Landsize  BuildingArea    YearBuilt  \\\n",
       "count  13580.000000  13518.000000   13580.000000   7130.000000  8205.000000   \n",
       "mean       1.534242      1.610075     558.416127    151.967650  1964.684217   \n",
       "std        0.691712      0.962634    3990.669241    541.014538    37.273762   \n",
       "min        0.000000      0.000000       0.000000      0.000000  1196.000000   \n",
       "25%        1.000000      1.000000     177.000000     93.000000  1940.000000   \n",
       "50%        1.000000      2.000000     440.000000    126.000000  1970.000000   \n",
       "75%        2.000000      2.000000     651.000000    174.000000  1999.000000   \n",
       "max        8.000000     10.000000  433014.000000  44515.000000  2018.000000   \n",
       "\n",
       "          Lattitude    Longtitude  Propertycount  \n",
       "count  13580.000000  13580.000000   13580.000000  \n",
       "mean     -37.809203    144.995216    7454.417378  \n",
       "std        0.079260      0.103916    4378.581772  \n",
       "min      -38.182550    144.431810     249.000000  \n",
       "25%      -37.856822    144.929600    4380.000000  \n",
       "50%      -37.802355    145.000100    6555.000000  \n",
       "75%      -37.756400    145.058305   10331.000000  \n",
       "max      -37.408530    145.526350   21650.000000  "
      ]
     },
     "execution_count": 5,
     "metadata": {},
     "output_type": "execute_result"
    }
   ],
   "source": [
    "housing_df.describe()"
   ]
  },
  {
   "cell_type": "code",
   "execution_count": 6,
   "id": "a96b1463",
   "metadata": {
    "execution": {
     "iopub.execute_input": "2022-02-05T08:28:22.826674Z",
     "iopub.status.busy": "2022-02-05T08:28:22.825940Z",
     "iopub.status.idle": "2022-02-05T08:28:22.864997Z",
     "shell.execute_reply": "2022-02-05T08:28:22.865630Z",
     "shell.execute_reply.started": "2022-02-05T06:14:37.697279Z"
    },
    "papermill": {
     "duration": 0.075518,
     "end_time": "2022-02-05T08:28:22.865859",
     "exception": false,
     "start_time": "2022-02-05T08:28:22.790341",
     "status": "completed"
    },
    "tags": []
   },
   "outputs": [
    {
     "data": {
      "text/plain": [
       "433014.0"
      ]
     },
     "execution_count": 6,
     "metadata": {},
     "output_type": "execute_result"
    }
   ],
   "source": [
    "housing_df.describe().loc['max', 'Landsize']"
   ]
  },
  {
   "cell_type": "code",
   "execution_count": 7,
   "id": "32ec4b2f",
   "metadata": {
    "execution": {
     "iopub.execute_input": "2022-02-05T08:28:22.931393Z",
     "iopub.status.busy": "2022-02-05T08:28:22.930627Z",
     "iopub.status.idle": "2022-02-05T08:28:22.951055Z",
     "shell.execute_reply": "2022-02-05T08:28:22.952343Z",
     "shell.execute_reply.started": "2022-02-05T06:14:37.739701Z"
    },
    "papermill": {
     "duration": 0.057037,
     "end_time": "2022-02-05T08:28:22.952589",
     "exception": false,
     "start_time": "2022-02-05T08:28:22.895552",
     "status": "completed"
    },
    "tags": []
   },
   "outputs": [],
   "source": [
    "housing_df = housing_df.dropna()"
   ]
  },
  {
   "cell_type": "code",
   "execution_count": 8,
   "id": "850ab50c",
   "metadata": {
    "execution": {
     "iopub.execute_input": "2022-02-05T08:28:23.016147Z",
     "iopub.status.busy": "2022-02-05T08:28:23.015454Z",
     "iopub.status.idle": "2022-02-05T08:28:23.020944Z",
     "shell.execute_reply": "2022-02-05T08:28:23.021494Z",
     "shell.execute_reply.started": "2022-02-05T06:14:37.761971Z"
    },
    "papermill": {
     "duration": 0.03881,
     "end_time": "2022-02-05T08:28:23.021700",
     "exception": false,
     "start_time": "2022-02-05T08:28:22.982890",
     "status": "completed"
    },
    "tags": []
   },
   "outputs": [
    {
     "data": {
      "text/plain": [
       "(6196, 21)"
      ]
     },
     "execution_count": 8,
     "metadata": {},
     "output_type": "execute_result"
    }
   ],
   "source": [
    "housing_df.shape"
   ]
  },
  {
   "cell_type": "markdown",
   "id": "17e156ef",
   "metadata": {
    "papermill": {
     "duration": 0.029193,
     "end_time": "2022-02-05T08:28:23.081716",
     "exception": false,
     "start_time": "2022-02-05T08:28:23.052523",
     "status": "completed"
    },
    "tags": []
   },
   "source": [
    "**MEMILIH TARGET PREDIKSI (PREDICTION TARGET)**"
   ]
  },
  {
   "cell_type": "code",
   "execution_count": 9,
   "id": "77e35789",
   "metadata": {
    "execution": {
     "iopub.execute_input": "2022-02-05T08:28:23.150347Z",
     "iopub.status.busy": "2022-02-05T08:28:23.149561Z",
     "iopub.status.idle": "2022-02-05T08:28:23.152681Z",
     "shell.execute_reply": "2022-02-05T08:28:23.153217Z",
     "shell.execute_reply.started": "2022-02-05T06:14:37.769450Z"
    },
    "papermill": {
     "duration": 0.041967,
     "end_time": "2022-02-05T08:28:23.153413",
     "exception": false,
     "start_time": "2022-02-05T08:28:23.111446",
     "status": "completed"
    },
    "tags": []
   },
   "outputs": [
    {
     "data": {
      "text/plain": [
       "1        1035000.0\n",
       "2        1465000.0\n",
       "4        1600000.0\n",
       "6        1876000.0\n",
       "7        1636000.0\n",
       "           ...    \n",
       "12205     601000.0\n",
       "12206    1050000.0\n",
       "12207     385000.0\n",
       "12209     560000.0\n",
       "12212    2450000.0\n",
       "Name: Price, Length: 6196, dtype: float64"
      ]
     },
     "execution_count": 9,
     "metadata": {},
     "output_type": "execute_result"
    }
   ],
   "source": [
    "y = housing_df['Price']\n",
    "y"
   ]
  },
  {
   "cell_type": "markdown",
   "id": "cdc768e1",
   "metadata": {
    "papermill": {
     "duration": 0.02959,
     "end_time": "2022-02-05T08:28:23.212526",
     "exception": false,
     "start_time": "2022-02-05T08:28:23.182936",
     "status": "completed"
    },
    "tags": []
   },
   "source": [
    "**MEMILIH FEATURE SELECTION**"
   ]
  },
  {
   "cell_type": "code",
   "execution_count": 10,
   "id": "8d63c4bb",
   "metadata": {
    "execution": {
     "iopub.execute_input": "2022-02-05T08:28:23.294603Z",
     "iopub.status.busy": "2022-02-05T08:28:23.282303Z",
     "iopub.status.idle": "2022-02-05T08:28:23.297923Z",
     "shell.execute_reply": "2022-02-05T08:28:23.298515Z",
     "shell.execute_reply.started": "2022-02-05T06:14:37.785868Z"
    },
    "papermill": {
     "duration": 0.055284,
     "end_time": "2022-02-05T08:28:23.298741",
     "exception": false,
     "start_time": "2022-02-05T08:28:23.243457",
     "status": "completed"
    },
    "tags": []
   },
   "outputs": [
    {
     "data": {
      "text/html": [
       "<div>\n",
       "<style scoped>\n",
       "    .dataframe tbody tr th:only-of-type {\n",
       "        vertical-align: middle;\n",
       "    }\n",
       "\n",
       "    .dataframe tbody tr th {\n",
       "        vertical-align: top;\n",
       "    }\n",
       "\n",
       "    .dataframe thead th {\n",
       "        text-align: right;\n",
       "    }\n",
       "</style>\n",
       "<table border=\"1\" class=\"dataframe\">\n",
       "  <thead>\n",
       "    <tr style=\"text-align: right;\">\n",
       "      <th></th>\n",
       "      <th>Rooms</th>\n",
       "      <th>Bathroom</th>\n",
       "      <th>Landsize</th>\n",
       "      <th>Lattitude</th>\n",
       "      <th>Longtitude</th>\n",
       "    </tr>\n",
       "  </thead>\n",
       "  <tbody>\n",
       "    <tr>\n",
       "      <th>1</th>\n",
       "      <td>2</td>\n",
       "      <td>1.0</td>\n",
       "      <td>156.0</td>\n",
       "      <td>-37.80790</td>\n",
       "      <td>144.99340</td>\n",
       "    </tr>\n",
       "    <tr>\n",
       "      <th>2</th>\n",
       "      <td>3</td>\n",
       "      <td>2.0</td>\n",
       "      <td>134.0</td>\n",
       "      <td>-37.80930</td>\n",
       "      <td>144.99440</td>\n",
       "    </tr>\n",
       "    <tr>\n",
       "      <th>4</th>\n",
       "      <td>4</td>\n",
       "      <td>1.0</td>\n",
       "      <td>120.0</td>\n",
       "      <td>-37.80720</td>\n",
       "      <td>144.99410</td>\n",
       "    </tr>\n",
       "    <tr>\n",
       "      <th>6</th>\n",
       "      <td>3</td>\n",
       "      <td>2.0</td>\n",
       "      <td>245.0</td>\n",
       "      <td>-37.80240</td>\n",
       "      <td>144.99930</td>\n",
       "    </tr>\n",
       "    <tr>\n",
       "      <th>7</th>\n",
       "      <td>2</td>\n",
       "      <td>1.0</td>\n",
       "      <td>256.0</td>\n",
       "      <td>-37.80600</td>\n",
       "      <td>144.99540</td>\n",
       "    </tr>\n",
       "    <tr>\n",
       "      <th>...</th>\n",
       "      <td>...</td>\n",
       "      <td>...</td>\n",
       "      <td>...</td>\n",
       "      <td>...</td>\n",
       "      <td>...</td>\n",
       "    </tr>\n",
       "    <tr>\n",
       "      <th>12205</th>\n",
       "      <td>3</td>\n",
       "      <td>2.0</td>\n",
       "      <td>972.0</td>\n",
       "      <td>-37.51232</td>\n",
       "      <td>145.13282</td>\n",
       "    </tr>\n",
       "    <tr>\n",
       "      <th>12206</th>\n",
       "      <td>3</td>\n",
       "      <td>1.0</td>\n",
       "      <td>179.0</td>\n",
       "      <td>-37.86558</td>\n",
       "      <td>144.90474</td>\n",
       "    </tr>\n",
       "    <tr>\n",
       "      <th>12207</th>\n",
       "      <td>1</td>\n",
       "      <td>1.0</td>\n",
       "      <td>0.0</td>\n",
       "      <td>-37.85588</td>\n",
       "      <td>144.89936</td>\n",
       "    </tr>\n",
       "    <tr>\n",
       "      <th>12209</th>\n",
       "      <td>2</td>\n",
       "      <td>1.0</td>\n",
       "      <td>0.0</td>\n",
       "      <td>-37.85581</td>\n",
       "      <td>144.99025</td>\n",
       "    </tr>\n",
       "    <tr>\n",
       "      <th>12212</th>\n",
       "      <td>6</td>\n",
       "      <td>3.0</td>\n",
       "      <td>1087.0</td>\n",
       "      <td>-37.81038</td>\n",
       "      <td>144.89389</td>\n",
       "    </tr>\n",
       "  </tbody>\n",
       "</table>\n",
       "<p>6196 rows × 5 columns</p>\n",
       "</div>"
      ],
      "text/plain": [
       "       Rooms  Bathroom  Landsize  Lattitude  Longtitude\n",
       "1          2       1.0     156.0  -37.80790   144.99340\n",
       "2          3       2.0     134.0  -37.80930   144.99440\n",
       "4          4       1.0     120.0  -37.80720   144.99410\n",
       "6          3       2.0     245.0  -37.80240   144.99930\n",
       "7          2       1.0     256.0  -37.80600   144.99540\n",
       "...      ...       ...       ...        ...         ...\n",
       "12205      3       2.0     972.0  -37.51232   145.13282\n",
       "12206      3       1.0     179.0  -37.86558   144.90474\n",
       "12207      1       1.0       0.0  -37.85588   144.89936\n",
       "12209      2       1.0       0.0  -37.85581   144.99025\n",
       "12212      6       3.0    1087.0  -37.81038   144.89389\n",
       "\n",
       "[6196 rows x 5 columns]"
      ]
     },
     "execution_count": 10,
     "metadata": {},
     "output_type": "execute_result"
    }
   ],
   "source": [
    "features = ['Rooms', 'Bathroom', 'Landsize', 'Lattitude', 'Longtitude']\n",
    "X = housing_df[features]\n",
    "X"
   ]
  },
  {
   "cell_type": "code",
   "execution_count": 11,
   "id": "a00e9b8f",
   "metadata": {
    "execution": {
     "iopub.execute_input": "2022-02-05T08:28:23.364167Z",
     "iopub.status.busy": "2022-02-05T08:28:23.363467Z",
     "iopub.status.idle": "2022-02-05T08:28:23.389596Z",
     "shell.execute_reply": "2022-02-05T08:28:23.388951Z",
     "shell.execute_reply.started": "2022-02-05T06:14:37.809288Z"
    },
    "papermill": {
     "duration": 0.059566,
     "end_time": "2022-02-05T08:28:23.389785",
     "exception": false,
     "start_time": "2022-02-05T08:28:23.330219",
     "status": "completed"
    },
    "tags": []
   },
   "outputs": [
    {
     "data": {
      "text/html": [
       "<div>\n",
       "<style scoped>\n",
       "    .dataframe tbody tr th:only-of-type {\n",
       "        vertical-align: middle;\n",
       "    }\n",
       "\n",
       "    .dataframe tbody tr th {\n",
       "        vertical-align: top;\n",
       "    }\n",
       "\n",
       "    .dataframe thead th {\n",
       "        text-align: right;\n",
       "    }\n",
       "</style>\n",
       "<table border=\"1\" class=\"dataframe\">\n",
       "  <thead>\n",
       "    <tr style=\"text-align: right;\">\n",
       "      <th></th>\n",
       "      <th>Rooms</th>\n",
       "      <th>Bathroom</th>\n",
       "      <th>Landsize</th>\n",
       "      <th>Lattitude</th>\n",
       "      <th>Longtitude</th>\n",
       "    </tr>\n",
       "  </thead>\n",
       "  <tbody>\n",
       "    <tr>\n",
       "      <th>count</th>\n",
       "      <td>6196.000000</td>\n",
       "      <td>6196.000000</td>\n",
       "      <td>6196.000000</td>\n",
       "      <td>6196.000000</td>\n",
       "      <td>6196.000000</td>\n",
       "    </tr>\n",
       "    <tr>\n",
       "      <th>mean</th>\n",
       "      <td>2.931407</td>\n",
       "      <td>1.576340</td>\n",
       "      <td>471.006940</td>\n",
       "      <td>-37.807904</td>\n",
       "      <td>144.990201</td>\n",
       "    </tr>\n",
       "    <tr>\n",
       "      <th>std</th>\n",
       "      <td>0.971079</td>\n",
       "      <td>0.711362</td>\n",
       "      <td>897.449881</td>\n",
       "      <td>0.075850</td>\n",
       "      <td>0.099165</td>\n",
       "    </tr>\n",
       "    <tr>\n",
       "      <th>min</th>\n",
       "      <td>1.000000</td>\n",
       "      <td>1.000000</td>\n",
       "      <td>0.000000</td>\n",
       "      <td>-38.164920</td>\n",
       "      <td>144.542370</td>\n",
       "    </tr>\n",
       "    <tr>\n",
       "      <th>25%</th>\n",
       "      <td>2.000000</td>\n",
       "      <td>1.000000</td>\n",
       "      <td>152.000000</td>\n",
       "      <td>-37.855438</td>\n",
       "      <td>144.926198</td>\n",
       "    </tr>\n",
       "    <tr>\n",
       "      <th>50%</th>\n",
       "      <td>3.000000</td>\n",
       "      <td>1.000000</td>\n",
       "      <td>373.000000</td>\n",
       "      <td>-37.802250</td>\n",
       "      <td>144.995800</td>\n",
       "    </tr>\n",
       "    <tr>\n",
       "      <th>75%</th>\n",
       "      <td>4.000000</td>\n",
       "      <td>2.000000</td>\n",
       "      <td>628.000000</td>\n",
       "      <td>-37.758200</td>\n",
       "      <td>145.052700</td>\n",
       "    </tr>\n",
       "    <tr>\n",
       "      <th>max</th>\n",
       "      <td>8.000000</td>\n",
       "      <td>8.000000</td>\n",
       "      <td>37000.000000</td>\n",
       "      <td>-37.457090</td>\n",
       "      <td>145.526350</td>\n",
       "    </tr>\n",
       "  </tbody>\n",
       "</table>\n",
       "</div>"
      ],
      "text/plain": [
       "             Rooms     Bathroom      Landsize    Lattitude   Longtitude\n",
       "count  6196.000000  6196.000000   6196.000000  6196.000000  6196.000000\n",
       "mean      2.931407     1.576340    471.006940   -37.807904   144.990201\n",
       "std       0.971079     0.711362    897.449881     0.075850     0.099165\n",
       "min       1.000000     1.000000      0.000000   -38.164920   144.542370\n",
       "25%       2.000000     1.000000    152.000000   -37.855438   144.926198\n",
       "50%       3.000000     1.000000    373.000000   -37.802250   144.995800\n",
       "75%       4.000000     2.000000    628.000000   -37.758200   145.052700\n",
       "max       8.000000     8.000000  37000.000000   -37.457090   145.526350"
      ]
     },
     "execution_count": 11,
     "metadata": {},
     "output_type": "execute_result"
    }
   ],
   "source": [
    "X.describe()"
   ]
  },
  {
   "cell_type": "markdown",
   "id": "aa121bc3",
   "metadata": {
    "papermill": {
     "duration": 0.030839,
     "end_time": "2022-02-05T08:28:23.452131",
     "exception": false,
     "start_time": "2022-02-05T08:28:23.421292",
     "status": "completed"
    },
    "tags": []
   },
   "source": [
    "**MEMBANGUN MODEL**"
   ]
  },
  {
   "cell_type": "code",
   "execution_count": 12,
   "id": "e5f9ba90",
   "metadata": {
    "execution": {
     "iopub.execute_input": "2022-02-05T08:28:23.519142Z",
     "iopub.status.busy": "2022-02-05T08:28:23.518455Z",
     "iopub.status.idle": "2022-02-05T08:28:23.911229Z",
     "shell.execute_reply": "2022-02-05T08:28:23.911806Z",
     "shell.execute_reply.started": "2022-02-05T06:14:37.842756Z"
    },
    "papermill": {
     "duration": 0.428822,
     "end_time": "2022-02-05T08:28:23.912014",
     "exception": false,
     "start_time": "2022-02-05T08:28:23.483192",
     "status": "completed"
    },
    "tags": []
   },
   "outputs": [],
   "source": [
    "#importing DecicionTreeRegression\n",
    "\n",
    "from sklearn.tree import DecisionTreeRegressor"
   ]
  },
  {
   "cell_type": "code",
   "execution_count": 13,
   "id": "df326650",
   "metadata": {
    "execution": {
     "iopub.execute_input": "2022-02-05T08:28:23.986543Z",
     "iopub.status.busy": "2022-02-05T08:28:23.985209Z",
     "iopub.status.idle": "2022-02-05T08:28:23.988629Z",
     "shell.execute_reply": "2022-02-05T08:28:23.989110Z",
     "shell.execute_reply.started": "2022-02-05T06:14:37.847494Z"
    },
    "papermill": {
     "duration": 0.041033,
     "end_time": "2022-02-05T08:28:23.989312",
     "exception": false,
     "start_time": "2022-02-05T08:28:23.948279",
     "status": "completed"
    },
    "tags": []
   },
   "outputs": [],
   "source": [
    "#konfigurasi model\n",
    "housing_model = DecisionTreeRegressor(random_state=1)"
   ]
  },
  {
   "cell_type": "code",
   "execution_count": 14,
   "id": "6116df74",
   "metadata": {
    "execution": {
     "iopub.execute_input": "2022-02-05T08:28:24.055954Z",
     "iopub.status.busy": "2022-02-05T08:28:24.055176Z",
     "iopub.status.idle": "2022-02-05T08:28:24.100880Z",
     "shell.execute_reply": "2022-02-05T08:28:24.100147Z",
     "shell.execute_reply.started": "2022-02-05T06:14:37.859769Z"
    },
    "papermill": {
     "duration": 0.079262,
     "end_time": "2022-02-05T08:28:24.101044",
     "exception": false,
     "start_time": "2022-02-05T08:28:24.021782",
     "status": "completed"
    },
    "tags": []
   },
   "outputs": [
    {
     "data": {
      "text/plain": [
       "DecisionTreeRegressor(random_state=1)"
      ]
     },
     "execution_count": 14,
     "metadata": {},
     "output_type": "execute_result"
    }
   ],
   "source": [
    "#Training Model\n",
    "housing_model.fit(X, y)"
   ]
  },
  {
   "cell_type": "code",
   "execution_count": 15,
   "id": "b13a0bbd",
   "metadata": {
    "execution": {
     "iopub.execute_input": "2022-02-05T08:28:24.169364Z",
     "iopub.status.busy": "2022-02-05T08:28:24.167564Z",
     "iopub.status.idle": "2022-02-05T08:28:24.175463Z",
     "shell.execute_reply": "2022-02-05T08:28:24.176026Z",
     "shell.execute_reply.started": "2022-02-05T06:14:37.907683Z"
    },
    "papermill": {
     "duration": 0.043379,
     "end_time": "2022-02-05T08:28:24.176237",
     "exception": false,
     "start_time": "2022-02-05T08:28:24.132858",
     "status": "completed"
    },
    "tags": []
   },
   "outputs": [
    {
     "data": {
      "text/plain": [
       "array([1035000., 1465000., 1600000., 1876000., 1636000.])"
      ]
     },
     "execution_count": 15,
     "metadata": {},
     "output_type": "execute_result"
    }
   ],
   "source": [
    "#melakukan prediksi\n",
    "housing_model.predict(X.head())"
   ]
  },
  {
   "cell_type": "code",
   "execution_count": 16,
   "id": "61850014",
   "metadata": {
    "execution": {
     "iopub.execute_input": "2022-02-05T08:28:24.243337Z",
     "iopub.status.busy": "2022-02-05T08:28:24.242688Z",
     "iopub.status.idle": "2022-02-05T08:28:24.254351Z",
     "shell.execute_reply": "2022-02-05T08:28:24.254879Z",
     "shell.execute_reply.started": "2022-02-05T06:14:37.917298Z"
    },
    "papermill": {
     "duration": 0.047028,
     "end_time": "2022-02-05T08:28:24.255126",
     "exception": false,
     "start_time": "2022-02-05T08:28:24.208098",
     "status": "completed"
    },
    "tags": []
   },
   "outputs": [
    {
     "data": {
      "text/html": [
       "<div>\n",
       "<style scoped>\n",
       "    .dataframe tbody tr th:only-of-type {\n",
       "        vertical-align: middle;\n",
       "    }\n",
       "\n",
       "    .dataframe tbody tr th {\n",
       "        vertical-align: top;\n",
       "    }\n",
       "\n",
       "    .dataframe thead th {\n",
       "        text-align: right;\n",
       "    }\n",
       "</style>\n",
       "<table border=\"1\" class=\"dataframe\">\n",
       "  <thead>\n",
       "    <tr style=\"text-align: right;\">\n",
       "      <th></th>\n",
       "      <th>Rooms</th>\n",
       "      <th>Bathroom</th>\n",
       "      <th>Landsize</th>\n",
       "      <th>Lattitude</th>\n",
       "      <th>Longtitude</th>\n",
       "    </tr>\n",
       "  </thead>\n",
       "  <tbody>\n",
       "    <tr>\n",
       "      <th>1</th>\n",
       "      <td>2</td>\n",
       "      <td>1.0</td>\n",
       "      <td>156.0</td>\n",
       "      <td>-37.8079</td>\n",
       "      <td>144.9934</td>\n",
       "    </tr>\n",
       "    <tr>\n",
       "      <th>2</th>\n",
       "      <td>3</td>\n",
       "      <td>2.0</td>\n",
       "      <td>134.0</td>\n",
       "      <td>-37.8093</td>\n",
       "      <td>144.9944</td>\n",
       "    </tr>\n",
       "    <tr>\n",
       "      <th>4</th>\n",
       "      <td>4</td>\n",
       "      <td>1.0</td>\n",
       "      <td>120.0</td>\n",
       "      <td>-37.8072</td>\n",
       "      <td>144.9941</td>\n",
       "    </tr>\n",
       "    <tr>\n",
       "      <th>6</th>\n",
       "      <td>3</td>\n",
       "      <td>2.0</td>\n",
       "      <td>245.0</td>\n",
       "      <td>-37.8024</td>\n",
       "      <td>144.9993</td>\n",
       "    </tr>\n",
       "    <tr>\n",
       "      <th>7</th>\n",
       "      <td>2</td>\n",
       "      <td>1.0</td>\n",
       "      <td>256.0</td>\n",
       "      <td>-37.8060</td>\n",
       "      <td>144.9954</td>\n",
       "    </tr>\n",
       "  </tbody>\n",
       "</table>\n",
       "</div>"
      ],
      "text/plain": [
       "   Rooms  Bathroom  Landsize  Lattitude  Longtitude\n",
       "1      2       1.0     156.0   -37.8079    144.9934\n",
       "2      3       2.0     134.0   -37.8093    144.9944\n",
       "4      4       1.0     120.0   -37.8072    144.9941\n",
       "6      3       2.0     245.0   -37.8024    144.9993\n",
       "7      2       1.0     256.0   -37.8060    144.9954"
      ]
     },
     "execution_count": 16,
     "metadata": {},
     "output_type": "execute_result"
    }
   ],
   "source": [
    "X.head()"
   ]
  },
  {
   "cell_type": "code",
   "execution_count": 17,
   "id": "89e3c4b2",
   "metadata": {
    "execution": {
     "iopub.execute_input": "2022-02-05T08:28:24.323187Z",
     "iopub.status.busy": "2022-02-05T08:28:24.322480Z",
     "iopub.status.idle": "2022-02-05T08:28:24.328574Z",
     "shell.execute_reply": "2022-02-05T08:28:24.329103Z",
     "shell.execute_reply.started": "2022-02-05T06:14:37.938804Z"
    },
    "papermill": {
     "duration": 0.041861,
     "end_time": "2022-02-05T08:28:24.329299",
     "exception": false,
     "start_time": "2022-02-05T08:28:24.287438",
     "status": "completed"
    },
    "tags": []
   },
   "outputs": [
    {
     "data": {
      "text/plain": [
       "1    1035000.0\n",
       "2    1465000.0\n",
       "4    1600000.0\n",
       "6    1876000.0\n",
       "7    1636000.0\n",
       "Name: Price, dtype: float64"
      ]
     },
     "execution_count": 17,
     "metadata": {},
     "output_type": "execute_result"
    }
   ],
   "source": [
    "y.head()"
   ]
  },
  {
   "cell_type": "code",
   "execution_count": 18,
   "id": "9184c911",
   "metadata": {
    "execution": {
     "iopub.execute_input": "2022-02-05T08:28:24.398913Z",
     "iopub.status.busy": "2022-02-05T08:28:24.398225Z",
     "iopub.status.idle": "2022-02-05T08:28:24.406509Z",
     "shell.execute_reply": "2022-02-05T08:28:24.405953Z",
     "shell.execute_reply.started": "2022-02-05T06:14:37.954029Z"
    },
    "papermill": {
     "duration": 0.043912,
     "end_time": "2022-02-05T08:28:24.406706",
     "exception": false,
     "start_time": "2022-02-05T08:28:24.362794",
     "status": "completed"
    },
    "tags": []
   },
   "outputs": [
    {
     "name": "stdout",
     "output_type": "stream",
     "text": [
      "5\n",
      "0\n",
      "3\n",
      "3\n",
      "7\n",
      "9\n",
      "3\n",
      "5\n",
      "2\n",
      "4\n"
     ]
    }
   ],
   "source": [
    "import numpy as np\n",
    "np.random.seed(0)\n",
    "\n",
    "for _ in range(10):\n",
    "    print(np.random.randint(10))"
   ]
  },
  {
   "cell_type": "markdown",
   "id": "65044f2f",
   "metadata": {
    "papermill": {
     "duration": 0.032276,
     "end_time": "2022-02-05T08:28:24.472332",
     "exception": false,
     "start_time": "2022-02-05T08:28:24.440056",
     "status": "completed"
    },
    "tags": []
   },
   "source": [
    "**Evaluasi mode (model evaluation)**\n",
    "\n",
    "Melakukan validasi/evaluasi terhadap model\n",
    "\n",
    "**Importing evaluation metric (mean_absolute_error)**"
   ]
  },
  {
   "cell_type": "code",
   "execution_count": 19,
   "id": "ae6f322b",
   "metadata": {
    "execution": {
     "iopub.execute_input": "2022-02-05T08:28:24.543145Z",
     "iopub.status.busy": "2022-02-05T08:28:24.542447Z",
     "iopub.status.idle": "2022-02-05T08:28:24.545336Z",
     "shell.execute_reply": "2022-02-05T08:28:24.544779Z",
     "shell.execute_reply.started": "2022-02-05T06:14:37.968491Z"
    },
    "papermill": {
     "duration": 0.040407,
     "end_time": "2022-02-05T08:28:24.545491",
     "exception": false,
     "start_time": "2022-02-05T08:28:24.505084",
     "status": "completed"
    },
    "tags": []
   },
   "outputs": [],
   "source": [
    "from sklearn.metrics import mean_absolute_error"
   ]
  },
  {
   "cell_type": "code",
   "execution_count": 20,
   "id": "645e3017",
   "metadata": {
    "execution": {
     "iopub.execute_input": "2022-02-05T08:28:24.619022Z",
     "iopub.status.busy": "2022-02-05T08:28:24.618300Z",
     "iopub.status.idle": "2022-02-05T08:28:24.624845Z",
     "shell.execute_reply": "2022-02-05T08:28:24.625357Z",
     "shell.execute_reply.started": "2022-02-05T06:14:37.982406Z"
    },
    "papermill": {
     "duration": 0.046574,
     "end_time": "2022-02-05T08:28:24.625550",
     "exception": false,
     "start_time": "2022-02-05T08:28:24.578976",
     "status": "completed"
    },
    "tags": []
   },
   "outputs": [
    {
     "data": {
      "text/plain": [
       "1115.7467183128902"
      ]
     },
     "execution_count": 20,
     "metadata": {},
     "output_type": "execute_result"
    }
   ],
   "source": [
    "y_hat = housing_model.predict(X)\n",
    "mean_absolute_error(y, y_hat)"
   ]
  },
  {
   "cell_type": "code",
   "execution_count": 21,
   "id": "4db003a3",
   "metadata": {
    "execution": {
     "iopub.execute_input": "2022-02-05T08:28:24.696029Z",
     "iopub.status.busy": "2022-02-05T08:28:24.695326Z",
     "iopub.status.idle": "2022-02-05T08:28:24.699138Z",
     "shell.execute_reply": "2022-02-05T08:28:24.699674Z",
     "shell.execute_reply.started": "2022-02-05T06:14:37.996539Z"
    },
    "papermill": {
     "duration": 0.040987,
     "end_time": "2022-02-05T08:28:24.699902",
     "exception": false,
     "start_time": "2022-02-05T08:28:24.658915",
     "status": "completed"
    },
    "tags": []
   },
   "outputs": [],
   "source": [
    "#Training dan Testing dataset\n",
    "from sklearn.model_selection import train_test_split"
   ]
  },
  {
   "cell_type": "code",
   "execution_count": 22,
   "id": "d7649e93",
   "metadata": {
    "execution": {
     "iopub.execute_input": "2022-02-05T08:28:24.771024Z",
     "iopub.status.busy": "2022-02-05T08:28:24.770364Z",
     "iopub.status.idle": "2022-02-05T08:28:24.777081Z",
     "shell.execute_reply": "2022-02-05T08:28:24.777601Z",
     "shell.execute_reply.started": "2022-02-05T06:14:38.002030Z"
    },
    "papermill": {
     "duration": 0.04375,
     "end_time": "2022-02-05T08:28:24.777828",
     "exception": false,
     "start_time": "2022-02-05T08:28:24.734078",
     "status": "completed"
    },
    "tags": []
   },
   "outputs": [],
   "source": [
    "#Membagi datasset menjadi dua bagian\n",
    "X_train, X_test, y_train, y_test = train_test_split(X, y, random_state=1, train_size=0.7)"
   ]
  },
  {
   "cell_type": "code",
   "execution_count": 23,
   "id": "90e3fd7b",
   "metadata": {
    "execution": {
     "iopub.execute_input": "2022-02-05T08:28:24.848002Z",
     "iopub.status.busy": "2022-02-05T08:28:24.847303Z",
     "iopub.status.idle": "2022-02-05T08:28:24.876099Z",
     "shell.execute_reply": "2022-02-05T08:28:24.876555Z",
     "shell.execute_reply.started": "2022-02-05T06:14:38.019799Z"
    },
    "papermill": {
     "duration": 0.065386,
     "end_time": "2022-02-05T08:28:24.876778",
     "exception": false,
     "start_time": "2022-02-05T08:28:24.811392",
     "status": "completed"
    },
    "tags": []
   },
   "outputs": [
    {
     "data": {
      "text/plain": [
       "DecisionTreeRegressor(random_state=1)"
      ]
     },
     "execution_count": 23,
     "metadata": {},
     "output_type": "execute_result"
    }
   ],
   "source": [
    "#Konfigurasi dan training model\n",
    "housing_model = DecisionTreeRegressor(random_state=1)\n",
    "housing_model.fit(X_train, y_train)"
   ]
  },
  {
   "cell_type": "code",
   "execution_count": 24,
   "id": "9a4058c6",
   "metadata": {
    "execution": {
     "iopub.execute_input": "2022-02-05T08:28:24.951937Z",
     "iopub.status.busy": "2022-02-05T08:28:24.951177Z",
     "iopub.status.idle": "2022-02-05T08:28:24.957963Z",
     "shell.execute_reply": "2022-02-05T08:28:24.957284Z",
     "shell.execute_reply.started": "2022-02-05T06:14:38.053954Z"
    },
    "papermill": {
     "duration": 0.047328,
     "end_time": "2022-02-05T08:28:24.958146",
     "exception": false,
     "start_time": "2022-02-05T08:28:24.910818",
     "status": "completed"
    },
    "tags": []
   },
   "outputs": [
    {
     "data": {
      "text/plain": [
       "252178.60301237224"
      ]
     },
     "execution_count": 24,
     "metadata": {},
     "output_type": "execute_result"
    }
   ],
   "source": [
    "#Evaluasi model\n",
    "y_hat = housing_model.predict(X_test)\n",
    "mean_absolute_error(y_test, y_hat)"
   ]
  },
  {
   "cell_type": "code",
   "execution_count": 25,
   "id": "11a3211c",
   "metadata": {
    "execution": {
     "iopub.execute_input": "2022-02-05T08:28:25.034269Z",
     "iopub.status.busy": "2022-02-05T08:28:25.033568Z",
     "iopub.status.idle": "2022-02-05T08:28:25.036364Z",
     "shell.execute_reply": "2022-02-05T08:28:25.035822Z",
     "shell.execute_reply.started": "2022-02-05T06:14:38.063774Z"
    },
    "papermill": {
     "duration": 0.043653,
     "end_time": "2022-02-05T08:28:25.036522",
     "exception": false,
     "start_time": "2022-02-05T08:28:24.992869",
     "status": "completed"
    },
    "tags": []
   },
   "outputs": [],
   "source": [
    "#Optimasi model\n",
    "def get_mae(max_leaf_nodes, X_train, X_test, y_train, y_test):\n",
    "    model = DecisionTreeRegressor(max_leaf_nodes=max_leaf_nodes, random_state=0)\n",
    "    model.fit(X_train, y_train)\n",
    "    y_hat = model.predict(X_test)\n",
    "    mae = mean_absolute_error(y_test, y_hat)\n",
    "    return mae"
   ]
  },
  {
   "cell_type": "code",
   "execution_count": 26,
   "id": "fdf99abb",
   "metadata": {
    "execution": {
     "iopub.execute_input": "2022-02-05T08:28:25.115175Z",
     "iopub.status.busy": "2022-02-05T08:28:25.114398Z",
     "iopub.status.idle": "2022-02-05T08:28:25.188236Z",
     "shell.execute_reply": "2022-02-05T08:28:25.187586Z",
     "shell.execute_reply.started": "2022-02-05T06:14:38.072231Z"
    },
    "papermill": {
     "duration": 0.118093,
     "end_time": "2022-02-05T08:28:25.188411",
     "exception": false,
     "start_time": "2022-02-05T08:28:25.070318",
     "status": "completed"
    },
    "tags": []
   },
   "outputs": [
    {
     "name": "stdout",
     "output_type": "stream",
     "text": [
      "Max leaf nodes: 5 \t Mean Absolute Error: 372973\n",
      "Max leaf nodes: 50 \t Mean Absolute Error: 264828\n",
      "Max leaf nodes: 500 \t Mean Absolute Error: 242136\n",
      "Max leaf nodes: 5000 \t Mean Absolute Error: 255703\n"
     ]
    }
   ],
   "source": [
    "#Membandingkan MAE dengan beberapa nilai max_leaf_nodes untuk menemukan jumlah leaf paling optimum\n",
    "for max_leaf_nodes in [5, 50, 500, 5000]:\n",
    "    leaf_mae = get_mae(max_leaf_nodes, X_train, X_test, y_train, y_test)\n",
    "    print(f'Max leaf nodes: {max_leaf_nodes} \\t Mean Absolute Error: {int(leaf_mae)}')"
   ]
  },
  {
   "cell_type": "code",
   "execution_count": 27,
   "id": "dab93303",
   "metadata": {
    "execution": {
     "iopub.execute_input": "2022-02-05T08:28:25.263222Z",
     "iopub.status.busy": "2022-02-05T08:28:25.262241Z",
     "iopub.status.idle": "2022-02-05T08:28:25.296052Z",
     "shell.execute_reply": "2022-02-05T08:28:25.295363Z",
     "shell.execute_reply.started": "2022-02-05T06:14:38.152128Z"
    },
    "papermill": {
     "duration": 0.074161,
     "end_time": "2022-02-05T08:28:25.296231",
     "exception": false,
     "start_time": "2022-02-05T08:28:25.222070",
     "status": "completed"
    },
    "tags": []
   },
   "outputs": [],
   "source": [
    "#Ekplorasi dengan Random Forrest\n",
    "from sklearn.ensemble import RandomForestRegressor"
   ]
  },
  {
   "cell_type": "code",
   "execution_count": 28,
   "id": "8441d16f",
   "metadata": {
    "execution": {
     "iopub.execute_input": "2022-02-05T08:28:25.423354Z",
     "iopub.status.busy": "2022-02-05T08:28:25.402351Z",
     "iopub.status.idle": "2022-02-05T08:28:26.843875Z",
     "shell.execute_reply": "2022-02-05T08:28:26.844427Z",
     "shell.execute_reply.started": "2022-02-05T06:14:38.158758Z"
    },
    "papermill": {
     "duration": 1.511752,
     "end_time": "2022-02-05T08:28:26.844630",
     "exception": false,
     "start_time": "2022-02-05T08:28:25.332878",
     "status": "completed"
    },
    "tags": []
   },
   "outputs": [
    {
     "name": "stdout",
     "output_type": "stream",
     "text": [
      "Mean Absolute Error: 193515\n"
     ]
    }
   ],
   "source": [
    "rf_model = RandomForestRegressor(n_estimators=100, random_state=1)\n",
    "rf_model.fit(X_train, y_train)\n",
    "y_hat = rf_model.predict(X_test)\n",
    "print(f'Mean Absolute Error: {int(mean_absolute_error(y_test, y_hat))}')"
   ]
  },
  {
   "cell_type": "code",
   "execution_count": 29,
   "id": "74e6150c",
   "metadata": {
    "execution": {
     "iopub.execute_input": "2022-02-05T08:28:26.923275Z",
     "iopub.status.busy": "2022-02-05T08:28:26.922231Z",
     "iopub.status.idle": "2022-02-05T08:28:26.924529Z",
     "shell.execute_reply": "2022-02-05T08:28:26.925043Z",
     "shell.execute_reply.started": "2022-02-05T06:14:39.572049Z"
    },
    "papermill": {
     "duration": 0.045611,
     "end_time": "2022-02-05T08:28:26.925231",
     "exception": false,
     "start_time": "2022-02-05T08:28:26.879620",
     "status": "completed"
    },
    "tags": []
   },
   "outputs": [],
   "source": [
    "%matplotlib inline"
   ]
  },
  {
   "cell_type": "code",
   "execution_count": 30,
   "id": "e2fcac0e",
   "metadata": {
    "execution": {
     "iopub.execute_input": "2022-02-05T08:28:26.999137Z",
     "iopub.status.busy": "2022-02-05T08:28:26.998334Z",
     "iopub.status.idle": "2022-02-05T08:28:27.272632Z",
     "shell.execute_reply": "2022-02-05T08:28:27.271796Z",
     "shell.execute_reply.started": "2022-02-05T06:14:39.580062Z"
    },
    "papermill": {
     "duration": 0.312829,
     "end_time": "2022-02-05T08:28:27.272829",
     "exception": false,
     "start_time": "2022-02-05T08:28:26.960000",
     "status": "completed"
    },
    "tags": []
   },
   "outputs": [
    {
     "name": "stderr",
     "output_type": "stream",
     "text": [
      "/opt/conda/lib/python3.7/site-packages/IPython/core/pylabtools.py:151: UserWarning: Glyph 9 (\t) missing from current font.\n",
      "  fig.canvas.print_figure(bytes_io, **kw)\n"
     ]
    },
    {
     "data": {
      "image/png": "[encoded data removed]",
      "text/plain": [
       "<Figure size 432x288 with 1 Axes>"
      ]
     },
     "metadata": {
      "needs_background": "light"
     },
     "output_type": "display_data"
    }
   ],
   "source": [
    "plt.figure()\n",
    "for max_leaf_nodes in [5, 50, 500, 5000]:\n",
    "    leaf_mae = get_mae(max_leaf_nodes, X_train, X_test, y_train, y_test)\n",
    "plt.bar(f'Max leaf nodes: {max_leaf_nodes} \\t Mean Absolute Error: {int(leaf_mae)}', height=leaf_mae)\n",
    "plt.title('Jumlah Lear Optimum')\n",
    "plt.ylabel('Max Leaf Nodes', fontsize=12)\n",
    "plt.xlabel('Mean Absolute Error', fontsize=12)\n",
    "plt.show()"
   ]
  }
 ],
 "metadata": {
  "kernelspec": {
   "display_name": "Python 3",
   "language": "python",
   "name": "python3"
  },
  "language_info": {
   "codemirror_mode": {
    "name": "ipython",
    "version": 3
   },
   "file_extension": ".py",
   "mimetype": "text/x-python",
   "name": "python",
   "nbconvert_exporter": "python",
   "pygments_lexer": "ipython3",
   "version": "3.7.12"
  },
  "papermill": {
   "default_parameters": {},
   "duration": 18.496529,
   "end_time": "2022-02-05T08:28:28.422053",
   "environment_variables": {},
   "exception": null,
   "input_path": "__notebook__.ipynb",
   "output_path": "__notebook__.ipynb",
   "parameters": {},
   "start_time": "2022-02-05T08:28:09.925524",
   "version": "2.3.3"
  }
 },
 "nbformat": 4,
 "nbformat_minor": 5
}
